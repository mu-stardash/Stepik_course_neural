{
  "cells": [
    {
      "cell_type": "markdown",
      "id": "98f0a50e",
      "metadata": {
        "id": "98f0a50e"
      },
      "source": [
        "# Pictures Classification"
      ]
    },
    {
      "cell_type": "code",
      "execution_count": 1,
      "id": "857cfdb8",
      "metadata": {
        "id": "857cfdb8"
      },
      "outputs": [],
      "source": [
        "import torch\n",
        "import random\n",
        "import numpy as np\n",
        "\n",
        "# init (so our exps can be replayed)\n",
        "random.seed(0)\n",
        "np.random.seed(0)\n",
        "torch.manual_seed(0)\n",
        "torch.cuda.manual_seed(0)\n",
        "torch.backends.cudnn.deterministic = True"
      ]
    },
    {
      "cell_type": "markdown",
      "id": "06c41be0",
      "metadata": {
        "id": "06c41be0"
      },
      "source": [
        "# Dataset for pics (MNIST)"
      ]
    },
    {
      "cell_type": "code",
      "execution_count": 2,
      "id": "190c9116",
      "metadata": {
        "colab": {
          "base_uri": "https://localhost:8080/",
          "height": 423,
          "referenced_widgets": [
            "0b75f6a5267f40f6899294e471a385dc",
            "6bc47a3ea7f44272aa413fb6d22fa5b2",
            "ae1321a925c948a6a70076263ea5e0ae",
            "904b41ffd7674658bbb233007624accb",
            "03ceac8f27f949e8937dc6690f1aeb9d",
            "2f3b4e76b80949d79d293d2539fd9e8c",
            "32011e7f820c4fc2a1ace59744e837d9",
            "f5026ea2da52475ca3d41e8d5c7e232a",
            "745e7f11992949eea8a31db91428b41d",
            "1ebc44be029f465f97d482ba572db6df",
            "5cb3ba1d348649f08c8ad62682aeb176",
            "6f88026dbd5349bb99fe4eeab6dd7500",
            "75d5611b23614ac5aaf7435daf63671d",
            "b91ba75b197c4fedac7bf92c6e88cdaa",
            "fdaaf73b13a04c6fb612235f63565c02",
            "dcb5c34337394409bfd121133d0e885b",
            "18731a8c12e64c0a9a08cd18c577e7c9",
            "bd69f19c524e49879622142d876c79e7",
            "c6dc2bcaabef4f38bd5cb55fd6ee7340",
            "89ba9d8027e14d7aa11b12fee1452a46",
            "dbdc70b317154a04810cd1e3e227ee81",
            "955c88adf0074278ab321e5efa42e5cc",
            "b9b5c9eea97448baa3dcdbb0a97bbab8",
            "054b66a838534afa97f6155a63b8a43e",
            "fd7e5f62a71b419f81e0d85db986d599",
            "83387710219a4a4882a0d0946d0827a2",
            "680c5da52e374f019e792536e8c6a19b",
            "c9144fc938844457900dc951195c87fb",
            "22d54ee919e54c6ebffd9e91fd5821b8",
            "aaf4612c8d0141e799d75d4650f11380",
            "dac6b08114b7482da43c4f763f5dc562",
            "9c6df57588514869be56a3e1ac60db22",
            "2731d2c9e3834278934ed72f0e05c9f2",
            "8b744b8fc3f742b6a67226d3ea3472ce",
            "3f157314517f4826adcd7ef194d47859",
            "773fb9b4a3e64799a1cf0f792cf3cf5d",
            "d4e11c8326d2467fb8139d49c70e5f0d",
            "8f4c83f4bf734e7b852907d0c24102e0",
            "a95162b2cbb4427e9bb8faa1cde8d5b7",
            "21627f10828848f18bd3e26d51ff7ddf",
            "0f0af673bd5647bc9b8c9e24280659e0",
            "201f57bfb54545b98d95c88a1f2c52ea",
            "b033c043bb4f44429cb3eb63eb535587",
            "0bbfe4d925f84f3a84271b3b09e155ae"
          ]
        },
        "id": "190c9116",
        "outputId": "8ddd2435-3b4b-4665-dc3e-48768dc2e83e"
      },
      "outputs": [
        {
          "output_type": "stream",
          "name": "stdout",
          "text": [
            "Downloading http://yann.lecun.com/exdb/mnist/train-images-idx3-ubyte.gz\n",
            "Downloading http://yann.lecun.com/exdb/mnist/train-images-idx3-ubyte.gz to ./MNIST/raw/train-images-idx3-ubyte.gz\n"
          ]
        },
        {
          "output_type": "display_data",
          "data": {
            "text/plain": [
              "  0%|          | 0/9912422 [00:00<?, ?it/s]"
            ],
            "application/vnd.jupyter.widget-view+json": {
              "version_major": 2,
              "version_minor": 0,
              "model_id": "0b75f6a5267f40f6899294e471a385dc"
            }
          },
          "metadata": {}
        },
        {
          "output_type": "stream",
          "name": "stdout",
          "text": [
            "Extracting ./MNIST/raw/train-images-idx3-ubyte.gz to ./MNIST/raw\n",
            "\n",
            "Downloading http://yann.lecun.com/exdb/mnist/train-labels-idx1-ubyte.gz\n",
            "Downloading http://yann.lecun.com/exdb/mnist/train-labels-idx1-ubyte.gz to ./MNIST/raw/train-labels-idx1-ubyte.gz\n"
          ]
        },
        {
          "output_type": "display_data",
          "data": {
            "text/plain": [
              "  0%|          | 0/28881 [00:00<?, ?it/s]"
            ],
            "application/vnd.jupyter.widget-view+json": {
              "version_major": 2,
              "version_minor": 0,
              "model_id": "6f88026dbd5349bb99fe4eeab6dd7500"
            }
          },
          "metadata": {}
        },
        {
          "output_type": "stream",
          "name": "stdout",
          "text": [
            "Extracting ./MNIST/raw/train-labels-idx1-ubyte.gz to ./MNIST/raw\n",
            "\n",
            "Downloading http://yann.lecun.com/exdb/mnist/t10k-images-idx3-ubyte.gz\n",
            "Downloading http://yann.lecun.com/exdb/mnist/t10k-images-idx3-ubyte.gz to ./MNIST/raw/t10k-images-idx3-ubyte.gz\n"
          ]
        },
        {
          "output_type": "display_data",
          "data": {
            "text/plain": [
              "  0%|          | 0/1648877 [00:00<?, ?it/s]"
            ],
            "application/vnd.jupyter.widget-view+json": {
              "version_major": 2,
              "version_minor": 0,
              "model_id": "b9b5c9eea97448baa3dcdbb0a97bbab8"
            }
          },
          "metadata": {}
        },
        {
          "output_type": "stream",
          "name": "stdout",
          "text": [
            "Extracting ./MNIST/raw/t10k-images-idx3-ubyte.gz to ./MNIST/raw\n",
            "\n",
            "Downloading http://yann.lecun.com/exdb/mnist/t10k-labels-idx1-ubyte.gz\n",
            "Downloading http://yann.lecun.com/exdb/mnist/t10k-labels-idx1-ubyte.gz to ./MNIST/raw/t10k-labels-idx1-ubyte.gz\n"
          ]
        },
        {
          "output_type": "display_data",
          "data": {
            "text/plain": [
              "  0%|          | 0/4542 [00:00<?, ?it/s]"
            ],
            "application/vnd.jupyter.widget-view+json": {
              "version_major": 2,
              "version_minor": 0,
              "model_id": "8b744b8fc3f742b6a67226d3ea3472ce"
            }
          },
          "metadata": {}
        },
        {
          "output_type": "stream",
          "name": "stdout",
          "text": [
            "Extracting ./MNIST/raw/t10k-labels-idx1-ubyte.gz to ./MNIST/raw\n",
            "\n"
          ]
        }
      ],
      "source": [
        "import torchvision.datasets\n",
        "# download train and test pictures from dataset\n",
        "MNIST_train = torchvision.datasets.MNIST('./', download=True, train=True)\n",
        "MNIST_test = torchvision.datasets.MNIST('./', download=True, train=False)"
      ]
    },
    {
      "cell_type": "code",
      "execution_count": 3,
      "id": "3d92b797",
      "metadata": {
        "id": "3d92b797"
      },
      "outputs": [],
      "source": [
        "X_train = MNIST_train.data\n",
        "y_train = MNIST_train.targets\n",
        "X_test = MNIST_test.data\n",
        "y_test = MNIST_test.targets"
      ]
    },
    {
      "cell_type": "code",
      "execution_count": 4,
      "id": "aa3f50fd",
      "metadata": {
        "colab": {
          "base_uri": "https://localhost:8080/"
        },
        "id": "aa3f50fd",
        "outputId": "98140ca4-5f3a-4ec2-d9dd-ab8f47d41d86"
      },
      "outputs": [
        {
          "output_type": "execute_result",
          "data": {
            "text/plain": [
              "(torch.uint8, torch.int64)"
            ]
          },
          "metadata": {},
          "execution_count": 4
        }
      ],
      "source": [
        "# what is the type? X_train - pictures, y_train - labels\n",
        "X_train.dtype, y_train.dtype"
      ]
    },
    {
      "cell_type": "code",
      "execution_count": 5,
      "id": "800b7621",
      "metadata": {
        "colab": {
          "base_uri": "https://localhost:8080/"
        },
        "id": "800b7621",
        "outputId": "ef143b1c-8c97-434f-ed7c-e4bbf40cb080"
      },
      "outputs": [
        {
          "output_type": "stream",
          "name": "stdout",
          "text": [
            "torch.Size([60000, 28, 28]) torch.Size([10000, 28, 28])\n",
            "torch.Size([60000]) torch.Size([10000])\n"
          ]
        }
      ],
      "source": [
        "# let's make everything in float type\n",
        "X_train = X_train.float()\n",
        "X_test = X_test.float()\n",
        "# and what on the size of datasets: 28x28 - pictures size\n",
        "print(X_train.shape, X_test.shape)\n",
        "print(y_train.shape, y_test.shape)"
      ]
    },
    {
      "cell_type": "code",
      "execution_count": 6,
      "id": "821dfc3b",
      "metadata": {
        "colab": {
          "base_uri": "https://localhost:8080/",
          "height": 282
        },
        "id": "821dfc3b",
        "outputId": "df23dfee-051e-4fad-a8be-7ff6c63b2707"
      },
      "outputs": [
        {
          "output_type": "display_data",
          "data": {
            "text/plain": [
              "<Figure size 432x288 with 1 Axes>"
            ],
            "image/png": "[encoded data removed]"
          },
          "metadata": {
            "needs_background": "light"
          }
        },
        {
          "output_type": "stream",
          "name": "stdout",
          "text": [
            "tensor(2)\n"
          ]
        }
      ],
      "source": [
        "# let's see how out pictures look like\n",
        "import matplotlib.pyplot as plt\n",
        "plt.imshow(X_train[5, :, :])\n",
        "plt.show()\n",
        "print(y_train[5])"
      ]
    },
    {
      "cell_type": "code",
      "execution_count": 7,
      "id": "be70adeb",
      "metadata": {
        "id": "be70adeb"
      },
      "outputs": [],
      "source": [
        "# растянем картинки в один вектор (так как каждая картинка описывает двумерным тензором, надо исправить)\n",
        "X_train = X_train.reshape([-1, 28 * 28])\n",
        "X_test = X_test.reshape([-1, 28 * 28])"
      ]
    },
    {
      "cell_type": "code",
      "execution_count": 29,
      "id": "d64c3bb2",
      "metadata": {
        "id": "d64c3bb2"
      },
      "outputs": [],
      "source": [
        "# create a model\n",
        "class MNISTNet(torch.nn.Module):\n",
        "    def __init__(self, n_hidden_neurons):\n",
        "        super(MNISTNet, self).__init__()\n",
        "        self.fc1 = torch.nn.Linear(28 * 28, n_hidden_neurons)\n",
        "        self.ac1 = torch.nn.Sigmoid()\n",
        "        self.fc2 = torch.nn.Linear(n_hidden_neurons, 10) \n",
        "    \n",
        "    # пропускает х через все слои\n",
        "    def forward(self, x):\n",
        "        x = self.fc1(x)\n",
        "        x = self.ac1(x)\n",
        "        x = self.fc2(x)\n",
        "        return x\n",
        "    \n",
        "mnist_net = MNISTNet(100)"
      ]
    },
    {
      "cell_type": "code",
      "source": [
        "# let's try to make with GPU\n",
        "torch.cuda.is_available()"
      ],
      "metadata": {
        "colab": {
          "base_uri": "https://localhost:8080/"
        },
        "id": "hoevVNyjVLti",
        "outputId": "b37726c3-9ce2-48a3-a4fa-70e5dfcd5a7d"
      },
      "id": "hoevVNyjVLti",
      "execution_count": 15,
      "outputs": [
        {
          "output_type": "execute_result",
          "data": {
            "text/plain": [
              "True"
            ]
          },
          "metadata": {},
          "execution_count": 15
        }
      ]
    },
    {
      "cell_type": "code",
      "source": [
        "# check if it's busy with some other processes\n",
        "!nvidia-smi"
      ],
      "metadata": {
        "colab": {
          "base_uri": "https://localhost:8080/"
        },
        "id": "kfaOxKKGVZVl",
        "outputId": "f7761826-403c-4017-ae31-8db711c769f4"
      },
      "id": "kfaOxKKGVZVl",
      "execution_count": 16,
      "outputs": [
        {
          "output_type": "stream",
          "name": "stdout",
          "text": [
            "Fri Oct 14 21:21:56 2022       \n",
            "+-----------------------------------------------------------------------------+\n",
            "| NVIDIA-SMI 460.32.03    Driver Version: 460.32.03    CUDA Version: 11.2     |\n",
            "|-------------------------------+----------------------+----------------------+\n",
            "| GPU  Name        Persistence-M| Bus-Id        Disp.A | Volatile Uncorr. ECC |\n",
            "| Fan  Temp  Perf  Pwr:Usage/Cap|         Memory-Usage | GPU-Util  Compute M. |\n",
            "|                               |                      |               MIG M. |\n",
            "|===============================+======================+======================|\n",
            "|   0  Tesla T4            Off  | 00000000:00:04.0 Off |                    0 |\n",
            "| N/A   48C    P0    28W /  70W |    878MiB / 15109MiB |      0%      Default |\n",
            "|                               |                      |                  N/A |\n",
            "+-------------------------------+----------------------+----------------------+\n",
            "                                                                               \n",
            "+-----------------------------------------------------------------------------+\n",
            "| Processes:                                                                  |\n",
            "|  GPU   GI   CI        PID   Type   Process name                  GPU Memory |\n",
            "|        ID   ID                                                   Usage      |\n",
            "|=============================================================================|\n",
            "+-----------------------------------------------------------------------------+\n"
          ]
        }
      ]
    },
    {
      "cell_type": "code",
      "source": [
        "# we are goinf to put Inputs (pictures) and parametres of nn on the GPU\n",
        "device = torch.device('cuda:0' if torch.cuda.is_available() else 'cpu')\n",
        "# torch.nn.Module allows us to make .to (and put it on the gpu)\n",
        "mnist_net = mnist_net.to(device)\n",
        "list(mnist_net.parameters())"
      ],
      "metadata": {
        "colab": {
          "base_uri": "https://localhost:8080/"
        },
        "id": "s9VzvdP_V3fd",
        "outputId": "7aec2786-64c4-469f-c8fc-ca237a1c724b"
      },
      "id": "s9VzvdP_V3fd",
      "execution_count": 30,
      "outputs": [
        {
          "output_type": "execute_result",
          "data": {
            "text/plain": [
              "[Parameter containing:\n",
              " tensor([[ 0.0088,  0.0058,  0.0317,  ..., -0.0279,  0.0182, -0.0278],\n",
              "         [-0.0018, -0.0255, -0.0028,  ..., -0.0291, -0.0228, -0.0238],\n",
              "         [-0.0309,  0.0338,  0.0235,  ...,  0.0287, -0.0031, -0.0043],\n",
              "         ...,\n",
              "         [ 0.0261, -0.0178,  0.0327,  ...,  0.0246, -0.0019,  0.0242],\n",
              "         [ 0.0238, -0.0312,  0.0318,  ...,  0.0113,  0.0340,  0.0125],\n",
              "         [ 0.0345,  0.0153,  0.0306,  ...,  0.0093, -0.0028, -0.0283]],\n",
              "        device='cuda:0', requires_grad=True), Parameter containing:\n",
              " tensor([-0.0245, -0.0200, -0.0131, -0.0120,  0.0316, -0.0002,  0.0278, -0.0225,\n",
              "          0.0250,  0.0270,  0.0091, -0.0042, -0.0290, -0.0142,  0.0132, -0.0160,\n",
              "          0.0022,  0.0347, -0.0131,  0.0153,  0.0032, -0.0138,  0.0204,  0.0323,\n",
              "          0.0164,  0.0228,  0.0221,  0.0245,  0.0244,  0.0209, -0.0356, -0.0345,\n",
              "          0.0188,  0.0259,  0.0061,  0.0225,  0.0271,  0.0099,  0.0029, -0.0022,\n",
              "          0.0082, -0.0173,  0.0084, -0.0354,  0.0118,  0.0007, -0.0180,  0.0076,\n",
              "         -0.0163,  0.0343,  0.0348,  0.0047,  0.0322, -0.0029, -0.0090,  0.0153,\n",
              "         -0.0039,  0.0121, -0.0163,  0.0002, -0.0009, -0.0106,  0.0206,  0.0107,\n",
              "          0.0070,  0.0237, -0.0191, -0.0085, -0.0242,  0.0115, -0.0041,  0.0009,\n",
              "         -0.0314, -0.0346, -0.0122,  0.0349, -0.0216, -0.0265, -0.0312, -0.0303,\n",
              "          0.0191,  0.0302, -0.0190, -0.0107, -0.0049, -0.0137,  0.0083,  0.0123,\n",
              "          0.0055, -0.0121,  0.0310, -0.0151, -0.0153, -0.0246, -0.0160,  0.0074,\n",
              "          0.0019, -0.0244, -0.0259, -0.0098], device='cuda:0',\n",
              "        requires_grad=True), Parameter containing:\n",
              " tensor([[ 0.0359,  0.0353, -0.0295, -0.0966,  0.0956, -0.0080,  0.0182, -0.0062,\n",
              "          -0.0518, -0.0882, -0.0319, -0.0694,  0.0227,  0.0162,  0.0587, -0.0796,\n",
              "           0.0146, -0.0163,  0.0732,  0.0898, -0.0160,  0.0069,  0.0587, -0.0802,\n",
              "           0.0256, -0.0334,  0.0610, -0.0811, -0.0524, -0.0202,  0.0673,  0.0068,\n",
              "           0.0531,  0.0397, -0.0809,  0.0364, -0.0287, -0.0932, -0.0352, -0.0888,\n",
              "          -0.0593,  0.0355, -0.0085, -0.0678,  0.0195, -0.0164,  0.0279,  0.0361,\n",
              "          -0.0722, -0.0437,  0.0607,  0.0653, -0.0417,  0.0253,  0.0926, -0.0758,\n",
              "          -0.0072,  0.0847, -0.0476, -0.0169, -0.0827,  0.0898, -0.0672, -0.0977,\n",
              "           0.0965, -0.0297,  0.0619, -0.0218,  0.0591,  0.0095,  0.0087,  0.0251,\n",
              "           0.0366,  0.0323,  0.0770, -0.0471, -0.0121,  0.0305,  0.0634,  0.0789,\n",
              "           0.0361,  0.0174,  0.0029,  0.0593, -0.0629, -0.0324, -0.0726, -0.0028,\n",
              "          -0.0829, -0.0444, -0.0033,  0.0501, -0.0812,  0.0499, -0.0451, -0.1000,\n",
              "          -0.0629,  0.0785,  0.0158, -0.0294],\n",
              "         [ 0.0868, -0.0950, -0.0737,  0.0598, -0.0878,  0.0542, -0.0246, -0.0261,\n",
              "          -0.0145,  0.0979,  0.0748, -0.0652,  0.0642,  0.0947, -0.0458,  0.0666,\n",
              "           0.0230,  0.0946, -0.0692,  0.0054, -0.0967,  0.0935, -0.0018,  0.0904,\n",
              "          -0.0380,  0.0509,  0.0208, -0.0029, -0.0436,  0.0874, -0.0083,  0.0680,\n",
              "           0.0124, -0.0523, -0.0526, -0.0434,  0.0254, -0.0639, -0.0643, -0.0333,\n",
              "          -0.0472,  0.0628,  0.0061,  0.0313, -0.0410,  0.0568,  0.0539,  0.0587,\n",
              "           0.0494, -0.0295, -0.0397,  0.0007,  0.0038, -0.0907,  0.0381,  0.0960,\n",
              "           0.0040, -0.0438, -0.0730,  0.0504, -0.0034, -0.0489,  0.0774,  0.0324,\n",
              "          -0.0581, -0.0838, -0.0168, -0.0785,  0.0452, -0.0810,  0.0913, -0.0202,\n",
              "          -0.0859, -0.0707,  0.0248,  0.0525,  0.0732, -0.0600, -0.0769, -0.0110,\n",
              "          -0.0235,  0.0981, -0.0472, -0.0192,  0.0352,  0.0561,  0.0559,  0.0542,\n",
              "          -0.0435,  0.0671, -0.0678,  0.0017, -0.0981,  0.0146, -0.0395,  0.0612,\n",
              "           0.0343,  0.0613, -0.0667, -0.0705],\n",
              "         [ 0.0760, -0.0328,  0.0482, -0.0621,  0.0915,  0.0206, -0.0943, -0.0523,\n",
              "          -0.0830,  0.0037,  0.0448,  0.0572,  0.0116, -0.0743,  0.0548,  0.0958,\n",
              "          -0.0747, -0.0280, -0.0253, -0.0065,  0.0413,  0.0789,  0.0992, -0.0654,\n",
              "          -0.0174, -0.0578,  0.0413,  0.0642,  0.0467, -0.0329, -0.0587,  0.0165,\n",
              "          -0.0019,  0.0916, -0.0548, -0.0134, -0.0762,  0.0745, -0.0765, -0.0712,\n",
              "           0.0738, -0.0822, -0.0264,  0.0982, -0.0705,  0.0362, -0.0268, -0.0231,\n",
              "           0.0335,  0.0231,  0.0890,  0.0688, -0.0992, -0.0477, -0.0536,  0.0563,\n",
              "          -0.0571,  0.0128,  0.0806,  0.0476, -0.0128, -0.0935, -0.0666,  0.0935,\n",
              "          -0.0880, -0.0230, -0.0273, -0.0641, -0.0351, -0.0437, -0.0408, -0.0609,\n",
              "           0.0021,  0.0280,  0.0855, -0.0843,  0.0222, -0.0952,  0.0852, -0.0288,\n",
              "          -0.0693,  0.0557, -0.0771, -0.0948, -0.0616,  0.0908,  0.0097,  0.0984,\n",
              "          -0.0866, -0.0534, -0.0401,  0.0075, -0.0370,  0.0897,  0.0118, -0.0548,\n",
              "           0.0597,  0.0769,  0.0020,  0.0557],\n",
              "         [-0.0478, -0.0961, -0.0323, -0.0045,  0.0573, -0.0398,  0.0962,  0.0144,\n",
              "           0.0127, -0.0723,  0.0680, -0.0779,  0.0891,  0.0387, -0.0806, -0.0811,\n",
              "           0.0924, -0.0313, -0.0691, -0.0310, -0.0572,  0.0502,  0.0032, -0.0002,\n",
              "          -0.0708,  0.0857,  0.0637,  0.0715,  0.0976, -0.0472, -0.0763,  0.0457,\n",
              "           0.0059, -0.0930, -0.0784, -0.0937, -0.0183, -0.0786, -0.0267,  0.0299,\n",
              "           0.0781,  0.0821,  0.0896,  0.0976, -0.0254,  0.0013, -0.0475,  0.0834,\n",
              "           0.0228, -0.0711,  0.0857, -0.0682,  0.0280,  0.0974, -0.0430, -0.0898,\n",
              "           0.0969, -0.0759, -0.0213,  0.0072,  0.0741, -0.0168, -0.0661, -0.0417,\n",
              "          -0.0822, -0.0840, -0.0616, -0.0946, -0.0887, -0.0728,  0.0216, -0.0533,\n",
              "          -0.0785,  0.0404, -0.0822,  0.0332, -0.0926, -0.0544, -0.0271, -0.0351,\n",
              "           0.0548, -0.0061, -0.0525, -0.0564, -0.0349, -0.0569, -0.0187, -0.0505,\n",
              "           0.0471, -0.0177, -0.0130, -0.0423, -0.0196,  0.0067, -0.0232,  0.0769,\n",
              "          -0.0247,  0.0480,  0.0993, -0.0567],\n",
              "         [-0.0763,  0.0295,  0.0045,  0.0149, -0.0048,  0.0104,  0.0876, -0.0475,\n",
              "           0.0598,  0.0440,  0.0241, -0.0446,  0.0675, -0.0364, -0.0816,  0.0063,\n",
              "          -0.0216, -0.0633,  0.0329, -0.0702, -0.0388,  0.0797, -0.0224,  0.0406,\n",
              "          -0.0231,  0.0365, -0.0323, -0.0396, -0.0202,  0.0214, -0.0488,  0.0690,\n",
              "          -0.0156, -0.0733,  0.0750, -0.0626,  0.0772,  0.0225,  0.0414, -0.0628,\n",
              "          -0.0436, -0.0027, -0.0456, -0.0234,  0.0305, -0.0926, -0.0166,  0.0035,\n",
              "          -0.0352, -0.0576,  0.0664,  0.0265, -0.0629, -0.0758,  0.0800,  0.0670,\n",
              "           0.0539, -0.0849,  0.0082,  0.0265, -0.0235, -0.0042, -0.0501,  0.0315,\n",
              "          -0.0783,  0.0103, -0.0844,  0.0289, -0.0759,  0.0249,  0.0494,  0.0265,\n",
              "           0.0735,  0.0840, -0.0298, -0.0648, -0.0634,  0.0923,  0.0362,  0.0138,\n",
              "          -0.0200, -0.0669,  0.0126,  0.0977,  0.0930,  0.0995,  0.0106,  0.0836,\n",
              "           0.0071, -0.0147, -0.0959, -0.0486, -0.0003, -0.0106,  0.0328, -0.0879,\n",
              "           0.0523,  0.0588,  0.0465,  0.0562],\n",
              "         [ 0.0472,  0.0591,  0.0051,  0.0510,  0.0253, -0.0510,  0.0422, -0.0421,\n",
              "          -0.0866,  0.0590,  0.0502,  0.0411,  0.0832,  0.0641,  0.0840,  0.0133,\n",
              "           0.0731, -0.0700, -0.0727, -0.0674,  0.0899,  0.0683, -0.0805, -0.0447,\n",
              "          -0.0781,  0.0926, -0.0576, -0.0126, -0.0648, -0.0114,  0.0045, -0.0717,\n",
              "           0.0633, -0.0534,  0.0660,  0.0767, -0.0663, -0.0884,  0.0300, -0.0314,\n",
              "          -0.0692, -0.0980, -0.0909, -0.0054, -0.0002,  0.0355,  0.0653,  0.0674,\n",
              "           0.0665, -0.0518, -0.0811, -0.0789, -0.0053,  0.0028, -0.0560,  0.0731,\n",
              "          -0.0694,  0.0164,  0.0214, -0.0718,  0.0565, -0.0555,  0.0399,  0.0010,\n",
              "           0.0665,  0.0478, -0.0289,  0.0865, -0.0959, -0.0560, -0.0696,  0.0114,\n",
              "           0.0486, -0.0296, -0.0561,  0.0500,  0.0651,  0.0849, -0.0369, -0.0546,\n",
              "           0.0038,  0.0533,  0.0882, -0.0790,  0.0102,  0.0373, -0.0542,  0.0931,\n",
              "          -0.0670, -0.0626,  0.0453,  0.0932, -0.0061,  0.0173, -0.0687,  0.0207,\n",
              "           0.0838, -0.0830, -0.0192,  0.0433],\n",
              "         [-0.0454,  0.0139, -0.0347, -0.0890, -0.0074,  0.0263, -0.0753, -0.0045,\n",
              "          -0.0755,  0.0578,  0.0566, -0.0475,  0.0530, -0.0506, -0.0623, -0.0312,\n",
              "          -0.0432, -0.0126, -0.0370,  0.0416, -0.0162, -0.0698,  0.0564,  0.0801,\n",
              "           0.0950, -0.0985,  0.0009,  0.0360, -0.0966,  0.0720,  0.0073, -0.0341,\n",
              "          -0.0078, -0.0367,  0.0164,  0.0222, -0.0895, -0.0281, -0.0729, -0.0378,\n",
              "          -0.0242, -0.0577,  0.0262,  0.0339,  0.0264, -0.0503, -0.0572,  0.0623,\n",
              "          -0.0536,  0.0338, -0.0732, -0.0567,  0.0398, -0.0171, -0.0306, -0.0120,\n",
              "           0.0521,  0.0664,  0.0903, -0.0844,  0.0859,  0.0993, -0.0755,  0.0924,\n",
              "          -0.0328, -0.0844,  0.0456, -0.0681,  0.0383, -0.0031, -0.0330, -0.0593,\n",
              "           0.0741,  0.0448,  0.0464,  0.0815, -0.0069,  0.0596,  0.0885,  0.0329,\n",
              "          -0.0114, -0.0661,  0.0488,  0.0905, -0.0161,  0.0961,  0.0737, -0.0515,\n",
              "           0.0122, -0.0942,  0.0100,  0.0069,  0.0767,  0.0810,  0.0142,  0.0918,\n",
              "          -0.0758, -0.0496, -0.0767,  0.0197],\n",
              "         [ 0.0976, -0.0316, -0.0106,  0.0488, -0.0832, -0.0832,  0.0610, -0.0821,\n",
              "           0.0228, -0.0894, -0.0281, -0.0035,  0.0359, -0.0529,  0.0533,  0.0751,\n",
              "          -0.0147,  0.0826, -0.0290,  0.0846, -0.0626,  0.0164, -0.0804,  0.0809,\n",
              "          -0.0419,  0.0568,  0.0365, -0.0312,  0.0258, -0.0643, -0.0089,  0.0198,\n",
              "          -0.0739,  0.0403, -0.0236,  0.0995, -0.0158,  0.0171,  0.0770, -0.0160,\n",
              "           0.0990, -0.0682, -0.0554, -0.0749, -0.0140,  0.0335,  0.0527, -0.0470,\n",
              "          -0.0825,  0.0932,  0.0536,  0.0143, -0.0401, -0.0632, -0.0393, -0.0212,\n",
              "          -0.0868, -0.0034, -0.0056, -0.0155,  0.0548, -0.0581, -0.0705, -0.0032,\n",
              "          -0.0646, -0.0229,  0.0899, -0.0281,  0.0024,  0.0191,  0.0831,  0.0067,\n",
              "           0.0616,  0.0913,  0.0577,  0.0370, -0.0666, -0.0544,  0.0472, -0.0352,\n",
              "          -0.0265, -0.0327,  0.0548,  0.0563, -0.0186, -0.0552,  0.0877,  0.0727,\n",
              "           0.0187, -0.0259,  0.0729, -0.0489,  0.0779, -0.0764, -0.0235,  0.0433,\n",
              "           0.0348, -0.0972, -0.0060,  0.0796],\n",
              "         [ 0.0862,  0.0996,  0.0193,  0.0841, -0.0461, -0.0879,  0.0941, -0.0709,\n",
              "           0.0944,  0.0917, -0.0957,  0.0485,  0.0259, -0.0622,  0.0002, -0.0608,\n",
              "          -0.0578,  0.0066, -0.0778,  0.0194,  0.0260, -0.0430,  0.0486, -0.0833,\n",
              "           0.0365,  0.0302,  0.0409, -0.0242,  0.0027, -0.0047,  0.0823,  0.0667,\n",
              "           0.0071,  0.0962, -0.0256, -0.0722,  0.0607,  0.0380,  0.0338, -0.0937,\n",
              "           0.0097, -0.0860,  0.0827, -0.0370, -0.0429,  0.0951, -0.0119, -0.0539,\n",
              "          -0.0558,  0.0858, -0.0694,  0.0056, -0.0954,  0.0339, -0.0340, -0.0081,\n",
              "           0.0427,  0.0395,  0.0111,  0.0539,  0.0590,  0.0519,  0.0343, -0.0090,\n",
              "           0.0368,  0.0234, -0.0405, -0.0751,  0.0997, -0.0612,  0.0924,  0.0294,\n",
              "           0.0016, -0.0503, -0.0540, -0.0671,  0.0429, -0.0118,  0.0440, -0.0119,\n",
              "          -0.0478, -0.0043,  0.0690, -0.0111,  0.0960, -0.0711,  0.0157,  0.0953,\n",
              "          -0.0612,  0.0851, -0.0044, -0.0269, -0.0580, -0.0019, -0.0489, -0.0994,\n",
              "          -0.0619, -0.0951, -0.0787,  0.0027],\n",
              "         [ 0.0963, -0.0970,  0.0278,  0.0812,  0.0553,  0.0732,  0.0585, -0.0433,\n",
              "           0.0740,  0.0337, -0.0417, -0.0750, -0.0653,  0.0443, -0.0901, -0.0508,\n",
              "           0.0211,  0.0305, -0.0992,  0.0510,  0.0548,  0.0963,  0.0853,  0.0596,\n",
              "           0.0431, -0.0099,  0.0064, -0.0462,  0.0438,  0.0997, -0.0714,  0.0666,\n",
              "           0.0539, -0.0929, -0.0585, -0.0673, -0.0821,  0.0693, -0.0043,  0.0377,\n",
              "          -0.0745, -0.0246,  0.0595, -0.0182, -0.0692,  0.0150,  0.0888,  0.0456,\n",
              "           0.0703, -0.0611, -0.0675, -0.0353, -0.0871,  0.0481,  0.0336, -0.0683,\n",
              "          -0.0928,  0.0376, -0.0639, -0.0961, -0.0562,  0.0527, -0.0437,  0.0316,\n",
              "           0.0376,  0.0597, -0.0451,  0.0862,  0.0336,  0.0470,  0.0944,  0.0089,\n",
              "          -0.0791,  0.0741, -0.0121,  0.0938,  0.0577, -0.0011, -0.0043,  0.0817,\n",
              "          -0.0738, -0.0791,  0.0921,  0.0543,  0.0497,  0.0742,  0.0655, -0.0867,\n",
              "          -0.0186,  0.0861,  0.0230,  0.0289, -0.0543, -0.0846,  0.0484,  0.0982,\n",
              "           0.0497, -0.0052,  0.0773, -0.0895]], device='cuda:0',\n",
              "        requires_grad=True), Parameter containing:\n",
              " tensor([-0.0558,  0.0619,  0.0687,  0.0114,  0.0567, -0.0992, -0.0642, -0.0552,\n",
              "         -0.0534,  0.0208], device='cuda:0', requires_grad=True)]"
            ]
          },
          "metadata": {},
          "execution_count": 30
        }
      ]
    },
    {
      "cell_type": "code",
      "execution_count": 31,
      "id": "21b5d18f",
      "metadata": {
        "id": "21b5d18f"
      },
      "outputs": [],
      "source": [
        "# we also need loss function and optimizer for gradient diecent\n",
        "loss = torch.nn.CrossEntropyLoss()\n",
        "optimizer = torch.optim.Adam(mnist_net.parameters(), lr=1.0e-3)"
      ]
    },
    {
      "cell_type": "code",
      "execution_count": 19,
      "id": "4f0a2538",
      "metadata": {
        "colab": {
          "base_uri": "https://localhost:8080/"
        },
        "id": "4f0a2538",
        "outputId": "7eba6c18-086d-416b-ba23-4de787f53ac5"
      },
      "outputs": [
        {
          "output_type": "stream",
          "name": "stdout",
          "text": [
            "torch.Size([6000, 28, 28])\n",
            "torch.Size([784, 6000])\n",
            "torch.Size([28, 6000, 28])\n",
            "torch.Size([4704000])\n",
            "torch.Size([4704000, 1, 1])\n",
            "torch.Size([1500, 14, 32, 7])\n"
          ]
        }
      ],
      "source": [
        "# Answer on the task\n",
        "x = torch.ones([6000, 28, 28], dtype=torch.int32)\n",
        "print(x.shape)\n",
        "#print(x.reshape(-1, 9).shape)\n",
        "print(x.reshape(-1,6000).shape)\n",
        "print(x.reshape(len(x[1]), len(x), len(x[2])).shape)\n",
        "print(x.reshape(-1).shape)\n",
        "print(x.reshape(-1,1,1).shape)\n",
        "print(x.reshape(-1,14,32,7).shape)"
      ]
    },
    {
      "cell_type": "markdown",
      "id": "8d17e572",
      "metadata": {
        "id": "8d17e572"
      },
      "source": [
        "# Process of learning"
      ]
    },
    {
      "cell_type": "code",
      "execution_count": null,
      "id": "d47dd235",
      "metadata": {
        "collapsed": true,
        "id": "d47dd235"
      },
      "outputs": [],
      "source": [
        "# батчевый (стахостический) град спуск\n",
        "batch_size = 100\n",
        "\n",
        "# to make a graph we will save accuracy on every epoch\n",
        "test_accuracy_history = []\n",
        "test_loss_history = []\n",
        "\n",
        "# put on the device\n",
        "X_test = X_test.to(device)\n",
        "y_test = y_test.to(device)\n",
        "\n",
        "for epoch in range(10000):\n",
        "    # mix dataset\n",
        "    order = np.random.permutation(len(X_train))\n",
        "    \n",
        "    for start_index in range(0, len(X_train), batch_size):\n",
        "        optimizer.zero_grad()\n",
        "        \n",
        "        batch_indexes = order[start_index:start_index+batch_size]\n",
        "        \n",
        "        # also put every concern batch on the device\n",
        "        X_batch = X_train[batch_indexes].to(device)\n",
        "        y_batch = y_train[batch_indexes].to(device)\n",
        "        \n",
        "        preds = mnist_net.forward(X_batch) \n",
        "        \n",
        "        loss_value = loss(preds, y_batch)\n",
        "        # count gradients\n",
        "        loss_value.backward()\n",
        "        \n",
        "        optimizer.step()\n",
        "\n",
        "    # we will also make a prediction on test dataset\n",
        "    test_preds = mnist_net.forward(X_test)\n",
        "    test_loss_history.append(loss(test_preds, y_test).cpu().detach().numpy())\n",
        "    \n",
        "    # argmax give the number of neuron with max amount\n",
        "    accuracy = (test_preds.argmax(dim=1) == y_test).float().mean().cpu().detach().numpy()\n",
        "    test_accuracy_history.append(accuracy)\n",
        "    print(accuracy)"
      ]
    },
    {
      "cell_type": "code",
      "source": [
        "plt.plot(test_accuracy_history)"
      ],
      "metadata": {
        "colab": {
          "base_uri": "https://localhost:8080/",
          "height": 282
        },
        "id": "_a6rpRJrX8Ou",
        "outputId": "1f355c57-de41-4b6c-ff79-3cbba0892832"
      },
      "id": "_a6rpRJrX8Ou",
      "execution_count": 33,
      "outputs": [
        {
          "output_type": "execute_result",
          "data": {
            "text/plain": [
              "[<matplotlib.lines.Line2D at 0x7f2c51620cd0>]"
            ]
          },
          "metadata": {},
          "execution_count": 33
        },
        {
          "output_type": "display_data",
          "data": {
            "text/plain": [
              "<Figure size 432x288 with 1 Axes>"
            ],
            "image/png": "[encoded data removed]"
          },
          "metadata": {
            "needs_background": "light"
          }
        }
      ]
    },
    {
      "cell_type": "code",
      "source": [
        "plt.plot(test_loss_history);"
      ],
      "metadata": {
        "colab": {
          "base_uri": "https://localhost:8080/",
          "height": 265
        },
        "id": "Ji4r5hjWb0wT",
        "outputId": "39dbbc92-1e0e-4839-8b0c-769997e05636"
      },
      "id": "Ji4r5hjWb0wT",
      "execution_count": 34,
      "outputs": [
        {
          "output_type": "display_data",
          "data": {
            "text/plain": [
              "<Figure size 432x288 with 1 Axes>"
            ],
            "image/png": "[encoded data removed]"
          },
          "metadata": {
            "needs_background": "light"
          }
        }
      ]
    }
  ],
  "metadata": {
    "kernelspec": {
      "display_name": "Python 3 (ipykernel)",
      "language": "python",
      "name": "python3"
    },
    "language_info": {
      "codemirror_mode": {
        "name": "ipython",
        "version": 3
      },
      "file_extension": ".py",
      "mimetype": "text/x-python",
      "name": "python",
      "nbconvert_exporter": "python",
      "pygments_lexer": "ipython3",
      "version": "3.9.12"
    },
    "colab": {
      "provenance": [],
      "collapsed_sections": []
    },
    "accelerator": "GPU",
    "widgets": {
      "application/vnd.jupyter.widget-state+json": {
        "0b75f6a5267f40f6899294e471a385dc": {
          "model_module": "@jupyter-widgets/controls",
          "model_name": "HBoxModel",
          "model_module_version": "1.5.0",
          "state": {
            "_dom_classes": [],
            "_model_module": "@jupyter-widgets/controls",
            "_model_module_version": "1.5.0",
            "_model_name": "HBoxModel",
            "_view_count": null,
            "_view_module": "@jupyter-widgets/controls",
            "_view_module_version": "1.5.0",
            "_view_name": "HBoxView",
            "box_style": "",
            "children": [
              "IPY_MODEL_6bc47a3ea7f44272aa413fb6d22fa5b2",
              "IPY_MODEL_ae1321a925c948a6a70076263ea5e0ae",
              "IPY_MODEL_904b41ffd7674658bbb233007624accb"
            ],
            "layout": "IPY_MODEL_03ceac8f27f949e8937dc6690f1aeb9d"
          }
        },
        "6bc47a3ea7f44272aa413fb6d22fa5b2": {
          "model_module": "@jupyter-widgets/controls",
          "model_name": "HTMLModel",
          "model_module_version": "1.5.0",
          "state": {
            "_dom_classes": [],
            "_model_module": "@jupyter-widgets/controls",
            "_model_module_version": "1.5.0",
            "_model_name": "HTMLModel",
            "_view_count": null,
            "_view_module": "@jupyter-widgets/controls",
            "_view_module_version": "1.5.0",
            "_view_name": "HTMLView",
            "description": "",
            "description_tooltip": null,
            "layout": "IPY_MODEL_2f3b4e76b80949d79d293d2539fd9e8c",
            "placeholder": "​",
            "style": "IPY_MODEL_32011e7f820c4fc2a1ace59744e837d9",
            "value": "100%"
          }
        },
        "ae1321a925c948a6a70076263ea5e0ae": {
          "model_module": "@jupyter-widgets/controls",
          "model_name": "FloatProgressModel",
          "model_module_version": "1.5.0",
          "state": {
            "_dom_classes": [],
            "_model_module": "@jupyter-widgets/controls",
            "_model_module_version": "1.5.0",
            "_model_name": "FloatProgressModel",
            "_view_count": null,
            "_view_module": "@jupyter-widgets/controls",
            "_view_module_version": "1.5.0",
            "_view_name": "ProgressView",
            "bar_style": "success",
            "description": "",
            "description_tooltip": null,
            "layout": "IPY_MODEL_f5026ea2da52475ca3d41e8d5c7e232a",
            "max": 9912422,
            "min": 0,
            "orientation": "horizontal",
            "style": "IPY_MODEL_745e7f11992949eea8a31db91428b41d",
            "value": 9912422
          }
        },
        "904b41ffd7674658bbb233007624accb": {
          "model_module": "@jupyter-widgets/controls",
          "model_name": "HTMLModel",
          "model_module_version": "1.5.0",
          "state": {
            "_dom_classes": [],
            "_model_module": "@jupyter-widgets/controls",
            "_model_module_version": "1.5.0",
            "_model_name": "HTMLModel",
            "_view_count": null,
            "_view_module": "@jupyter-widgets/controls",
            "_view_module_version": "1.5.0",
            "_view_name": "HTMLView",
            "description": "",
            "description_tooltip": null,
            "layout": "IPY_MODEL_1ebc44be029f465f97d482ba572db6df",
            "placeholder": "​",
            "style": "IPY_MODEL_5cb3ba1d348649f08c8ad62682aeb176",
            "value": " 9912422/9912422 [00:00&lt;00:00, 83866964.36it/s]"
          }
        },
        "03ceac8f27f949e8937dc6690f1aeb9d": {
          "model_module": "@jupyter-widgets/base",
          "model_name": "LayoutModel",
          "model_module_version": "1.2.0",
          "state": {
            "_model_module": "@jupyter-widgets/base",
            "_model_module_version": "1.2.0",
            "_model_name": "LayoutModel",
            "_view_count": null,
            "_view_module": "@jupyter-widgets/base",
            "_view_module_version": "1.2.0",
            "_view_name": "LayoutView",
            "align_content": null,
            "align_items": null,
            "align_self": null,
            "border": null,
            "bottom": null,
            "display": null,
            "flex": null,
            "flex_flow": null,
            "grid_area": null,
            "grid_auto_columns": null,
            "grid_auto_flow": null,
            "grid_auto_rows": null,
            "grid_column": null,
            "grid_gap": null,
            "grid_row": null,
            "grid_template_areas": null,
            "grid_template_columns": null,
            "grid_template_rows": null,
            "height": null,
            "justify_content": null,
            "justify_items": null,
            "left": null,
            "margin": null,
            "max_height": null,
            "max_width": null,
            "min_height": null,
            "min_width": null,
            "object_fit": null,
            "object_position": null,
            "order": null,
            "overflow": null,
            "overflow_x": null,
            "overflow_y": null,
            "padding": null,
            "right": null,
            "top": null,
            "visibility": null,
            "width": null
          }
        },
        "2f3b4e76b80949d79d293d2539fd9e8c": {
          "model_module": "@jupyter-widgets/base",
          "model_name": "LayoutModel",
          "model_module_version": "1.2.0",
          "state": {
            "_model_module": "@jupyter-widgets/base",
            "_model_module_version": "1.2.0",
            "_model_name": "LayoutModel",
            "_view_count": null,
            "_view_module": "@jupyter-widgets/base",
            "_view_module_version": "1.2.0",
            "_view_name": "LayoutView",
            "align_content": null,
            "align_items": null,
            "align_self": null,
            "border": null,
            "bottom": null,
            "display": null,
            "flex": null,
            "flex_flow": null,
            "grid_area": null,
            "grid_auto_columns": null,
            "grid_auto_flow": null,
            "grid_auto_rows": null,
            "grid_column": null,
            "grid_gap": null,
            "grid_row": null,
            "grid_template_areas": null,
            "grid_template_columns": null,
            "grid_template_rows": null,
            "height": null,
            "justify_content": null,
            "justify_items": null,
            "left": null,
            "margin": null,
            "max_height": null,
            "max_width": null,
            "min_height": null,
            "min_width": null,
            "object_fit": null,
            "object_position": null,
            "order": null,
            "overflow": null,
            "overflow_x": null,
            "overflow_y": null,
            "padding": null,
            "right": null,
            "top": null,
            "visibility": null,
            "width": null
          }
        },
        "32011e7f820c4fc2a1ace59744e837d9": {
          "model_module": "@jupyter-widgets/controls",
          "model_name": "DescriptionStyleModel",
          "model_module_version": "1.5.0",
          "state": {
            "_model_module": "@jupyter-widgets/controls",
            "_model_module_version": "1.5.0",
            "_model_name": "DescriptionStyleModel",
            "_view_count": null,
            "_view_module": "@jupyter-widgets/base",
            "_view_module_version": "1.2.0",
            "_view_name": "StyleView",
            "description_width": ""
          }
        },
        "f5026ea2da52475ca3d41e8d5c7e232a": {
          "model_module": "@jupyter-widgets/base",
          "model_name": "LayoutModel",
          "model_module_version": "1.2.0",
          "state": {
            "_model_module": "@jupyter-widgets/base",
            "_model_module_version": "1.2.0",
            "_model_name": "LayoutModel",
            "_view_count": null,
            "_view_module": "@jupyter-widgets/base",
            "_view_module_version": "1.2.0",
            "_view_name": "LayoutView",
            "align_content": null,
            "align_items": null,
            "align_self": null,
            "border": null,
            "bottom": null,
            "display": null,
            "flex": null,
            "flex_flow": null,
            "grid_area": null,
            "grid_auto_columns": null,
            "grid_auto_flow": null,
            "grid_auto_rows": null,
            "grid_column": null,
            "grid_gap": null,
            "grid_row": null,
            "grid_template_areas": null,
            "grid_template_columns": null,
            "grid_template_rows": null,
            "height": null,
            "justify_content": null,
            "justify_items": null,
            "left": null,
            "margin": null,
            "max_height": null,
            "max_width": null,
            "min_height": null,
            "min_width": null,
            "object_fit": null,
            "object_position": null,
            "order": null,
            "overflow": null,
            "overflow_x": null,
            "overflow_y": null,
            "padding": null,
            "right": null,
            "top": null,
            "visibility": null,
            "width": null
          }
        },
        "745e7f11992949eea8a31db91428b41d": {
          "model_module": "@jupyter-widgets/controls",
          "model_name": "ProgressStyleModel",
          "model_module_version": "1.5.0",
          "state": {
            "_model_module": "@jupyter-widgets/controls",
            "_model_module_version": "1.5.0",
            "_model_name": "ProgressStyleModel",
            "_view_count": null,
            "_view_module": "@jupyter-widgets/base",
            "_view_module_version": "1.2.0",
            "_view_name": "StyleView",
            "bar_color": null,
            "description_width": ""
          }
        },
        "1ebc44be029f465f97d482ba572db6df": {
          "model_module": "@jupyter-widgets/base",
          "model_name": "LayoutModel",
          "model_module_version": "1.2.0",
          "state": {
            "_model_module": "@jupyter-widgets/base",
            "_model_module_version": "1.2.0",
            "_model_name": "LayoutModel",
            "_view_count": null,
            "_view_module": "@jupyter-widgets/base",
            "_view_module_version": "1.2.0",
            "_view_name": "LayoutView",
            "align_content": null,
            "align_items": null,
            "align_self": null,
            "border": null,
            "bottom": null,
            "display": null,
            "flex": null,
            "flex_flow": null,
            "grid_area": null,
            "grid_auto_columns": null,
            "grid_auto_flow": null,
            "grid_auto_rows": null,
            "grid_column": null,
            "grid_gap": null,
            "grid_row": null,
            "grid_template_areas": null,
            "grid_template_columns": null,
            "grid_template_rows": null,
            "height": null,
            "justify_content": null,
            "justify_items": null,
            "left": null,
            "margin": null,
            "max_height": null,
            "max_width": null,
            "min_height": null,
            "min_width": null,
            "object_fit": null,
            "object_position": null,
            "order": null,
            "overflow": null,
            "overflow_x": null,
            "overflow_y": null,
            "padding": null,
            "right": null,
            "top": null,
            "visibility": null,
            "width": null
          }
        },
        "5cb3ba1d348649f08c8ad62682aeb176": {
          "model_module": "@jupyter-widgets/controls",
          "model_name": "DescriptionStyleModel",
          "model_module_version": "1.5.0",
          "state": {
            "_model_module": "@jupyter-widgets/controls",
            "_model_module_version": "1.5.0",
            "_model_name": "DescriptionStyleModel",
            "_view_count": null,
            "_view_module": "@jupyter-widgets/base",
            "_view_module_version": "1.2.0",
            "_view_name": "StyleView",
            "description_width": ""
          }
        },
        "6f88026dbd5349bb99fe4eeab6dd7500": {
          "model_module": "@jupyter-widgets/controls",
          "model_name": "HBoxModel",
          "model_module_version": "1.5.0",
          "state": {
            "_dom_classes": [],
            "_model_module": "@jupyter-widgets/controls",
            "_model_module_version": "1.5.0",
            "_model_name": "HBoxModel",
            "_view_count": null,
            "_view_module": "@jupyter-widgets/controls",
            "_view_module_version": "1.5.0",
            "_view_name": "HBoxView",
            "box_style": "",
            "children": [
              "IPY_MODEL_75d5611b23614ac5aaf7435daf63671d",
              "IPY_MODEL_b91ba75b197c4fedac7bf92c6e88cdaa",
              "IPY_MODEL_fdaaf73b13a04c6fb612235f63565c02"
            ],
            "layout": "IPY_MODEL_dcb5c34337394409bfd121133d0e885b"
          }
        },
        "75d5611b23614ac5aaf7435daf63671d": {
          "model_module": "@jupyter-widgets/controls",
          "model_name": "HTMLModel",
          "model_module_version": "1.5.0",
          "state": {
            "_dom_classes": [],
            "_model_module": "@jupyter-widgets/controls",
            "_model_module_version": "1.5.0",
            "_model_name": "HTMLModel",
            "_view_count": null,
            "_view_module": "@jupyter-widgets/controls",
            "_view_module_version": "1.5.0",
            "_view_name": "HTMLView",
            "description": "",
            "description_tooltip": null,
            "layout": "IPY_MODEL_18731a8c12e64c0a9a08cd18c577e7c9",
            "placeholder": "​",
            "style": "IPY_MODEL_bd69f19c524e49879622142d876c79e7",
            "value": "100%"
          }
        },
        "b91ba75b197c4fedac7bf92c6e88cdaa": {
          "model_module": "@jupyter-widgets/controls",
          "model_name": "FloatProgressModel",
          "model_module_version": "1.5.0",
          "state": {
            "_dom_classes": [],
            "_model_module": "@jupyter-widgets/controls",
            "_model_module_version": "1.5.0",
            "_model_name": "FloatProgressModel",
            "_view_count": null,
            "_view_module": "@jupyter-widgets/controls",
            "_view_module_version": "1.5.0",
            "_view_name": "ProgressView",
            "bar_style": "success",
            "description": "",
            "description_tooltip": null,
            "layout": "IPY_MODEL_c6dc2bcaabef4f38bd5cb55fd6ee7340",
            "max": 28881,
            "min": 0,
            "orientation": "horizontal",
            "style": "IPY_MODEL_89ba9d8027e14d7aa11b12fee1452a46",
            "value": 28881
          }
        },
        "fdaaf73b13a04c6fb612235f63565c02": {
          "model_module": "@jupyter-widgets/controls",
          "model_name": "HTMLModel",
          "model_module_version": "1.5.0",
          "state": {
            "_dom_classes": [],
            "_model_module": "@jupyter-widgets/controls",
            "_model_module_version": "1.5.0",
            "_model_name": "HTMLModel",
            "_view_count": null,
            "_view_module": "@jupyter-widgets/controls",
            "_view_module_version": "1.5.0",
            "_view_name": "HTMLView",
            "description": "",
            "description_tooltip": null,
            "layout": "IPY_MODEL_dbdc70b317154a04810cd1e3e227ee81",
            "placeholder": "​",
            "style": "IPY_MODEL_955c88adf0074278ab321e5efa42e5cc",
            "value": " 28881/28881 [00:00&lt;00:00, 927084.90it/s]"
          }
        },
        "dcb5c34337394409bfd121133d0e885b": {
          "model_module": "@jupyter-widgets/base",
          "model_name": "LayoutModel",
          "model_module_version": "1.2.0",
          "state": {
            "_model_module": "@jupyter-widgets/base",
            "_model_module_version": "1.2.0",
            "_model_name": "LayoutModel",
            "_view_count": null,
            "_view_module": "@jupyter-widgets/base",
            "_view_module_version": "1.2.0",
            "_view_name": "LayoutView",
            "align_content": null,
            "align_items": null,
            "align_self": null,
            "border": null,
            "bottom": null,
            "display": null,
            "flex": null,
            "flex_flow": null,
            "grid_area": null,
            "grid_auto_columns": null,
            "grid_auto_flow": null,
            "grid_auto_rows": null,
            "grid_column": null,
            "grid_gap": null,
            "grid_row": null,
            "grid_template_areas": null,
            "grid_template_columns": null,
            "grid_template_rows": null,
            "height": null,
            "justify_content": null,
            "justify_items": null,
            "left": null,
            "margin": null,
            "max_height": null,
            "max_width": null,
            "min_height": null,
            "min_width": null,
            "object_fit": null,
            "object_position": null,
            "order": null,
            "overflow": null,
            "overflow_x": null,
            "overflow_y": null,
            "padding": null,
            "right": null,
            "top": null,
            "visibility": null,
            "width": null
          }
        },
        "18731a8c12e64c0a9a08cd18c577e7c9": {
          "model_module": "@jupyter-widgets/base",
          "model_name": "LayoutModel",
          "model_module_version": "1.2.0",
          "state": {
            "_model_module": "@jupyter-widgets/base",
            "_model_module_version": "1.2.0",
            "_model_name": "LayoutModel",
            "_view_count": null,
            "_view_module": "@jupyter-widgets/base",
            "_view_module_version": "1.2.0",
            "_view_name": "LayoutView",
            "align_content": null,
            "align_items": null,
            "align_self": null,
            "border": null,
            "bottom": null,
            "display": null,
            "flex": null,
            "flex_flow": null,
            "grid_area": null,
            "grid_auto_columns": null,
            "grid_auto_flow": null,
            "grid_auto_rows": null,
            "grid_column": null,
            "grid_gap": null,
            "grid_row": null,
            "grid_template_areas": null,
            "grid_template_columns": null,
            "grid_template_rows": null,
            "height": null,
            "justify_content": null,
            "justify_items": null,
            "left": null,
            "margin": null,
            "max_height": null,
            "max_width": null,
            "min_height": null,
            "min_width": null,
            "object_fit": null,
            "object_position": null,
            "order": null,
            "overflow": null,
            "overflow_x": null,
            "overflow_y": null,
            "padding": null,
            "right": null,
            "top": null,
            "visibility": null,
            "width": null
          }
        },
        "bd69f19c524e49879622142d876c79e7": {
          "model_module": "@jupyter-widgets/controls",
          "model_name": "DescriptionStyleModel",
          "model_module_version": "1.5.0",
          "state": {
            "_model_module": "@jupyter-widgets/controls",
            "_model_module_version": "1.5.0",
            "_model_name": "DescriptionStyleModel",
            "_view_count": null,
            "_view_module": "@jupyter-widgets/base",
            "_view_module_version": "1.2.0",
            "_view_name": "StyleView",
            "description_width": ""
          }
        },
        "c6dc2bcaabef4f38bd5cb55fd6ee7340": {
          "model_module": "@jupyter-widgets/base",
          "model_name": "LayoutModel",
          "model_module_version": "1.2.0",
          "state": {
            "_model_module": "@jupyter-widgets/base",
            "_model_module_version": "1.2.0",
            "_model_name": "LayoutModel",
            "_view_count": null,
            "_view_module": "@jupyter-widgets/base",
            "_view_module_version": "1.2.0",
            "_view_name": "LayoutView",
            "align_content": null,
            "align_items": null,
            "align_self": null,
            "border": null,
            "bottom": null,
            "display": null,
            "flex": null,
            "flex_flow": null,
            "grid_area": null,
            "grid_auto_columns": null,
            "grid_auto_flow": null,
            "grid_auto_rows": null,
            "grid_column": null,
            "grid_gap": null,
            "grid_row": null,
            "grid_template_areas": null,
            "grid_template_columns": null,
            "grid_template_rows": null,
            "height": null,
            "justify_content": null,
            "justify_items": null,
            "left": null,
            "margin": null,
            "max_height": null,
            "max_width": null,
            "min_height": null,
            "min_width": null,
            "object_fit": null,
            "object_position": null,
            "order": null,
            "overflow": null,
            "overflow_x": null,
            "overflow_y": null,
            "padding": null,
            "right": null,
            "top": null,
            "visibility": null,
            "width": null
          }
        },
        "89ba9d8027e14d7aa11b12fee1452a46": {
          "model_module": "@jupyter-widgets/controls",
          "model_name": "ProgressStyleModel",
          "model_module_version": "1.5.0",
          "state": {
            "_model_module": "@jupyter-widgets/controls",
            "_model_module_version": "1.5.0",
            "_model_name": "ProgressStyleModel",
            "_view_count": null,
            "_view_module": "@jupyter-widgets/base",
            "_view_module_version": "1.2.0",
            "_view_name": "StyleView",
            "bar_color": null,
            "description_width": ""
          }
        },
        "dbdc70b317154a04810cd1e3e227ee81": {
          "model_module": "@jupyter-widgets/base",
          "model_name": "LayoutModel",
          "model_module_version": "1.2.0",
          "state": {
            "_model_module": "@jupyter-widgets/base",
            "_model_module_version": "1.2.0",
            "_model_name": "LayoutModel",
            "_view_count": null,
            "_view_module": "@jupyter-widgets/base",
            "_view_module_version": "1.2.0",
            "_view_name": "LayoutView",
            "align_content": null,
            "align_items": null,
            "align_self": null,
            "border": null,
            "bottom": null,
            "display": null,
            "flex": null,
            "flex_flow": null,
            "grid_area": null,
            "grid_auto_columns": null,
            "grid_auto_flow": null,
            "grid_auto_rows": null,
            "grid_column": null,
            "grid_gap": null,
            "grid_row": null,
            "grid_template_areas": null,
            "grid_template_columns": null,
            "grid_template_rows": null,
            "height": null,
            "justify_content": null,
            "justify_items": null,
            "left": null,
            "margin": null,
            "max_height": null,
            "max_width": null,
            "min_height": null,
            "min_width": null,
            "object_fit": null,
            "object_position": null,
            "order": null,
            "overflow": null,
            "overflow_x": null,
            "overflow_y": null,
            "padding": null,
            "right": null,
            "top": null,
            "visibility": null,
            "width": null
          }
        },
        "955c88adf0074278ab321e5efa42e5cc": {
          "model_module": "@jupyter-widgets/controls",
          "model_name": "DescriptionStyleModel",
          "model_module_version": "1.5.0",
          "state": {
            "_model_module": "@jupyter-widgets/controls",
            "_model_module_version": "1.5.0",
            "_model_name": "DescriptionStyleModel",
            "_view_count": null,
            "_view_module": "@jupyter-widgets/base",
            "_view_module_version": "1.2.0",
            "_view_name": "StyleView",
            "description_width": ""
          }
        },
        "b9b5c9eea97448baa3dcdbb0a97bbab8": {
          "model_module": "@jupyter-widgets/controls",
          "model_name": "HBoxModel",
          "model_module_version": "1.5.0",
          "state": {
            "_dom_classes": [],
            "_model_module": "@jupyter-widgets/controls",
            "_model_module_version": "1.5.0",
            "_model_name": "HBoxModel",
            "_view_count": null,
            "_view_module": "@jupyter-widgets/controls",
            "_view_module_version": "1.5.0",
            "_view_name": "HBoxView",
            "box_style": "",
            "children": [
              "IPY_MODEL_054b66a838534afa97f6155a63b8a43e",
              "IPY_MODEL_fd7e5f62a71b419f81e0d85db986d599",
              "IPY_MODEL_83387710219a4a4882a0d0946d0827a2"
            ],
            "layout": "IPY_MODEL_680c5da52e374f019e792536e8c6a19b"
          }
        },
        "054b66a838534afa97f6155a63b8a43e": {
          "model_module": "@jupyter-widgets/controls",
          "model_name": "HTMLModel",
          "model_module_version": "1.5.0",
          "state": {
            "_dom_classes": [],
            "_model_module": "@jupyter-widgets/controls",
            "_model_module_version": "1.5.0",
            "_model_name": "HTMLModel",
            "_view_count": null,
            "_view_module": "@jupyter-widgets/controls",
            "_view_module_version": "1.5.0",
            "_view_name": "HTMLView",
            "description": "",
            "description_tooltip": null,
            "layout": "IPY_MODEL_c9144fc938844457900dc951195c87fb",
            "placeholder": "​",
            "style": "IPY_MODEL_22d54ee919e54c6ebffd9e91fd5821b8",
            "value": "100%"
          }
        },
        "fd7e5f62a71b419f81e0d85db986d599": {
          "model_module": "@jupyter-widgets/controls",
          "model_name": "FloatProgressModel",
          "model_module_version": "1.5.0",
          "state": {
            "_dom_classes": [],
            "_model_module": "@jupyter-widgets/controls",
            "_model_module_version": "1.5.0",
            "_model_name": "FloatProgressModel",
            "_view_count": null,
            "_view_module": "@jupyter-widgets/controls",
            "_view_module_version": "1.5.0",
            "_view_name": "ProgressView",
            "bar_style": "success",
            "description": "",
            "description_tooltip": null,
            "layout": "IPY_MODEL_aaf4612c8d0141e799d75d4650f11380",
            "max": 1648877,
            "min": 0,
            "orientation": "horizontal",
            "style": "IPY_MODEL_dac6b08114b7482da43c4f763f5dc562",
            "value": 1648877
          }
        },
        "83387710219a4a4882a0d0946d0827a2": {
          "model_module": "@jupyter-widgets/controls",
          "model_name": "HTMLModel",
          "model_module_version": "1.5.0",
          "state": {
            "_dom_classes": [],
            "_model_module": "@jupyter-widgets/controls",
            "_model_module_version": "1.5.0",
            "_model_name": "HTMLModel",
            "_view_count": null,
            "_view_module": "@jupyter-widgets/controls",
            "_view_module_version": "1.5.0",
            "_view_name": "HTMLView",
            "description": "",
            "description_tooltip": null,
            "layout": "IPY_MODEL_9c6df57588514869be56a3e1ac60db22",
            "placeholder": "​",
            "style": "IPY_MODEL_2731d2c9e3834278934ed72f0e05c9f2",
            "value": " 1648877/1648877 [00:00&lt;00:00, 22778415.49it/s]"
          }
        },
        "680c5da52e374f019e792536e8c6a19b": {
          "model_module": "@jupyter-widgets/base",
          "model_name": "LayoutModel",
          "model_module_version": "1.2.0",
          "state": {
            "_model_module": "@jupyter-widgets/base",
            "_model_module_version": "1.2.0",
            "_model_name": "LayoutModel",
            "_view_count": null,
            "_view_module": "@jupyter-widgets/base",
            "_view_module_version": "1.2.0",
            "_view_name": "LayoutView",
            "align_content": null,
            "align_items": null,
            "align_self": null,
            "border": null,
            "bottom": null,
            "display": null,
            "flex": null,
            "flex_flow": null,
            "grid_area": null,
            "grid_auto_columns": null,
            "grid_auto_flow": null,
            "grid_auto_rows": null,
            "grid_column": null,
            "grid_gap": null,
            "grid_row": null,
            "grid_template_areas": null,
            "grid_template_columns": null,
            "grid_template_rows": null,
            "height": null,
            "justify_content": null,
            "justify_items": null,
            "left": null,
            "margin": null,
            "max_height": null,
            "max_width": null,
            "min_height": null,
            "min_width": null,
            "object_fit": null,
            "object_position": null,
            "order": null,
            "overflow": null,
            "overflow_x": null,
            "overflow_y": null,
            "padding": null,
            "right": null,
            "top": null,
            "visibility": null,
            "width": null
          }
        },
        "c9144fc938844457900dc951195c87fb": {
          "model_module": "@jupyter-widgets/base",
          "model_name": "LayoutModel",
          "model_module_version": "1.2.0",
          "state": {
            "_model_module": "@jupyter-widgets/base",
            "_model_module_version": "1.2.0",
            "_model_name": "LayoutModel",
            "_view_count": null,
            "_view_module": "@jupyter-widgets/base",
            "_view_module_version": "1.2.0",
            "_view_name": "LayoutView",
            "align_content": null,
            "align_items": null,
            "align_self": null,
            "border": null,
            "bottom": null,
            "display": null,
            "flex": null,
            "flex_flow": null,
            "grid_area": null,
            "grid_auto_columns": null,
            "grid_auto_flow": null,
            "grid_auto_rows": null,
            "grid_column": null,
            "grid_gap": null,
            "grid_row": null,
            "grid_template_areas": null,
            "grid_template_columns": null,
            "grid_template_rows": null,
            "height": null,
            "justify_content": null,
            "justify_items": null,
            "left": null,
            "margin": null,
            "max_height": null,
            "max_width": null,
            "min_height": null,
            "min_width": null,
            "object_fit": null,
            "object_position": null,
            "order": null,
            "overflow": null,
            "overflow_x": null,
            "overflow_y": null,
            "padding": null,
            "right": null,
            "top": null,
            "visibility": null,
            "width": null
          }
        },
        "22d54ee919e54c6ebffd9e91fd5821b8": {
          "model_module": "@jupyter-widgets/controls",
          "model_name": "DescriptionStyleModel",
          "model_module_version": "1.5.0",
          "state": {
            "_model_module": "@jupyter-widgets/controls",
            "_model_module_version": "1.5.0",
            "_model_name": "DescriptionStyleModel",
            "_view_count": null,
            "_view_module": "@jupyter-widgets/base",
            "_view_module_version": "1.2.0",
            "_view_name": "StyleView",
            "description_width": ""
          }
        },
        "aaf4612c8d0141e799d75d4650f11380": {
          "model_module": "@jupyter-widgets/base",
          "model_name": "LayoutModel",
          "model_module_version": "1.2.0",
          "state": {
            "_model_module": "@jupyter-widgets/base",
            "_model_module_version": "1.2.0",
            "_model_name": "LayoutModel",
            "_view_count": null,
            "_view_module": "@jupyter-widgets/base",
            "_view_module_version": "1.2.0",
            "_view_name": "LayoutView",
            "align_content": null,
            "align_items": null,
            "align_self": null,
            "border": null,
            "bottom": null,
            "display": null,
            "flex": null,
            "flex_flow": null,
            "grid_area": null,
            "grid_auto_columns": null,
            "grid_auto_flow": null,
            "grid_auto_rows": null,
            "grid_column": null,
            "grid_gap": null,
            "grid_row": null,
            "grid_template_areas": null,
            "grid_template_columns": null,
            "grid_template_rows": null,
            "height": null,
            "justify_content": null,
            "justify_items": null,
            "left": null,
            "margin": null,
            "max_height": null,
            "max_width": null,
            "min_height": null,
            "min_width": null,
            "object_fit": null,
            "object_position": null,
            "order": null,
            "overflow": null,
            "overflow_x": null,
            "overflow_y": null,
            "padding": null,
            "right": null,
            "top": null,
            "visibility": null,
            "width": null
          }
        },
        "dac6b08114b7482da43c4f763f5dc562": {
          "model_module": "@jupyter-widgets/controls",
          "model_name": "ProgressStyleModel",
          "model_module_version": "1.5.0",
          "state": {
            "_model_module": "@jupyter-widgets/controls",
            "_model_module_version": "1.5.0",
            "_model_name": "ProgressStyleModel",
            "_view_count": null,
            "_view_module": "@jupyter-widgets/base",
            "_view_module_version": "1.2.0",
            "_view_name": "StyleView",
            "bar_color": null,
            "description_width": ""
          }
        },
        "9c6df57588514869be56a3e1ac60db22": {
          "model_module": "@jupyter-widgets/base",
          "model_name": "LayoutModel",
          "model_module_version": "1.2.0",
          "state": {
            "_model_module": "@jupyter-widgets/base",
            "_model_module_version": "1.2.0",
            "_model_name": "LayoutModel",
            "_view_count": null,
            "_view_module": "@jupyter-widgets/base",
            "_view_module_version": "1.2.0",
            "_view_name": "LayoutView",
            "align_content": null,
            "align_items": null,
            "align_self": null,
            "border": null,
            "bottom": null,
            "display": null,
            "flex": null,
            "flex_flow": null,
            "grid_area": null,
            "grid_auto_columns": null,
            "grid_auto_flow": null,
            "grid_auto_rows": null,
            "grid_column": null,
            "grid_gap": null,
            "grid_row": null,
            "grid_template_areas": null,
            "grid_template_columns": null,
            "grid_template_rows": null,
            "height": null,
            "justify_content": null,
            "justify_items": null,
            "left": null,
            "margin": null,
            "max_height": null,
            "max_width": null,
            "min_height": null,
            "min_width": null,
            "object_fit": null,
            "object_position": null,
            "order": null,
            "overflow": null,
            "overflow_x": null,
            "overflow_y": null,
            "padding": null,
            "right": null,
            "top": null,
            "visibility": null,
            "width": null
          }
        },
        "2731d2c9e3834278934ed72f0e05c9f2": {
          "model_module": "@jupyter-widgets/controls",
          "model_name": "DescriptionStyleModel",
          "model_module_version": "1.5.0",
          "state": {
            "_model_module": "@jupyter-widgets/controls",
            "_model_module_version": "1.5.0",
            "_model_name": "DescriptionStyleModel",
            "_view_count": null,
            "_view_module": "@jupyter-widgets/base",
            "_view_module_version": "1.2.0",
            "_view_name": "StyleView",
            "description_width": ""
          }
        },
        "8b744b8fc3f742b6a67226d3ea3472ce": {
          "model_module": "@jupyter-widgets/controls",
          "model_name": "HBoxModel",
          "model_module_version": "1.5.0",
          "state": {
            "_dom_classes": [],
            "_model_module": "@jupyter-widgets/controls",
            "_model_module_version": "1.5.0",
            "_model_name": "HBoxModel",
            "_view_count": null,
            "_view_module": "@jupyter-widgets/controls",
            "_view_module_version": "1.5.0",
            "_view_name": "HBoxView",
            "box_style": "",
            "children": [
              "IPY_MODEL_3f157314517f4826adcd7ef194d47859",
              "IPY_MODEL_773fb9b4a3e64799a1cf0f792cf3cf5d",
              "IPY_MODEL_d4e11c8326d2467fb8139d49c70e5f0d"
            ],
            "layout": "IPY_MODEL_8f4c83f4bf734e7b852907d0c24102e0"
          }
        },
        "3f157314517f4826adcd7ef194d47859": {
          "model_module": "@jupyter-widgets/controls",
          "model_name": "HTMLModel",
          "model_module_version": "1.5.0",
          "state": {
            "_dom_classes": [],
            "_model_module": "@jupyter-widgets/controls",
            "_model_module_version": "1.5.0",
            "_model_name": "HTMLModel",
            "_view_count": null,
            "_view_module": "@jupyter-widgets/controls",
            "_view_module_version": "1.5.0",
            "_view_name": "HTMLView",
            "description": "",
            "description_tooltip": null,
            "layout": "IPY_MODEL_a95162b2cbb4427e9bb8faa1cde8d5b7",
            "placeholder": "​",
            "style": "IPY_MODEL_21627f10828848f18bd3e26d51ff7ddf",
            "value": "100%"
          }
        },
        "773fb9b4a3e64799a1cf0f792cf3cf5d": {
          "model_module": "@jupyter-widgets/controls",
          "model_name": "FloatProgressModel",
          "model_module_version": "1.5.0",
          "state": {
            "_dom_classes": [],
            "_model_module": "@jupyter-widgets/controls",
            "_model_module_version": "1.5.0",
            "_model_name": "FloatProgressModel",
            "_view_count": null,
            "_view_module": "@jupyter-widgets/controls",
            "_view_module_version": "1.5.0",
            "_view_name": "ProgressView",
            "bar_style": "success",
            "description": "",
            "description_tooltip": null,
            "layout": "IPY_MODEL_0f0af673bd5647bc9b8c9e24280659e0",
            "max": 4542,
            "min": 0,
            "orientation": "horizontal",
            "style": "IPY_MODEL_201f57bfb54545b98d95c88a1f2c52ea",
            "value": 4542
          }
        },
        "d4e11c8326d2467fb8139d49c70e5f0d": {
          "model_module": "@jupyter-widgets/controls",
          "model_name": "HTMLModel",
          "model_module_version": "1.5.0",
          "state": {
            "_dom_classes": [],
            "_model_module": "@jupyter-widgets/controls",
            "_model_module_version": "1.5.0",
            "_model_name": "HTMLModel",
            "_view_count": null,
            "_view_module": "@jupyter-widgets/controls",
            "_view_module_version": "1.5.0",
            "_view_name": "HTMLView",
            "description": "",
            "description_tooltip": null,
            "layout": "IPY_MODEL_b033c043bb4f44429cb3eb63eb535587",
            "placeholder": "​",
            "style": "IPY_MODEL_0bbfe4d925f84f3a84271b3b09e155ae",
            "value": " 4542/4542 [00:00&lt;00:00, 144927.15it/s]"
          }
        },
        "8f4c83f4bf734e7b852907d0c24102e0": {
          "model_module": "@jupyter-widgets/base",
          "model_name": "LayoutModel",
          "model_module_version": "1.2.0",
          "state": {
            "_model_module": "@jupyter-widgets/base",
            "_model_module_version": "1.2.0",
            "_model_name": "LayoutModel",
            "_view_count": null,
            "_view_module": "@jupyter-widgets/base",
            "_view_module_version": "1.2.0",
            "_view_name": "LayoutView",
            "align_content": null,
            "align_items": null,
            "align_self": null,
            "border": null,
            "bottom": null,
            "display": null,
            "flex": null,
            "flex_flow": null,
            "grid_area": null,
            "grid_auto_columns": null,
            "grid_auto_flow": null,
            "grid_auto_rows": null,
            "grid_column": null,
            "grid_gap": null,
            "grid_row": null,
            "grid_template_areas": null,
            "grid_template_columns": null,
            "grid_template_rows": null,
            "height": null,
            "justify_content": null,
            "justify_items": null,
            "left": null,
            "margin": null,
            "max_height": null,
            "max_width": null,
            "min_height": null,
            "min_width": null,
            "object_fit": null,
            "object_position": null,
            "order": null,
            "overflow": null,
            "overflow_x": null,
            "overflow_y": null,
            "padding": null,
            "right": null,
            "top": null,
            "visibility": null,
            "width": null
          }
        },
        "a95162b2cbb4427e9bb8faa1cde8d5b7": {
          "model_module": "@jupyter-widgets/base",
          "model_name": "LayoutModel",
          "model_module_version": "1.2.0",
          "state": {
            "_model_module": "@jupyter-widgets/base",
            "_model_module_version": "1.2.0",
            "_model_name": "LayoutModel",
            "_view_count": null,
            "_view_module": "@jupyter-widgets/base",
            "_view_module_version": "1.2.0",
            "_view_name": "LayoutView",
            "align_content": null,
            "align_items": null,
            "align_self": null,
            "border": null,
            "bottom": null,
            "display": null,
            "flex": null,
            "flex_flow": null,
            "grid_area": null,
            "grid_auto_columns": null,
            "grid_auto_flow": null,
            "grid_auto_rows": null,
            "grid_column": null,
            "grid_gap": null,
            "grid_row": null,
            "grid_template_areas": null,
            "grid_template_columns": null,
            "grid_template_rows": null,
            "height": null,
            "justify_content": null,
            "justify_items": null,
            "left": null,
            "margin": null,
            "max_height": null,
            "max_width": null,
            "min_height": null,
            "min_width": null,
            "object_fit": null,
            "object_position": null,
            "order": null,
            "overflow": null,
            "overflow_x": null,
            "overflow_y": null,
            "padding": null,
            "right": null,
            "top": null,
            "visibility": null,
            "width": null
          }
        },
        "21627f10828848f18bd3e26d51ff7ddf": {
          "model_module": "@jupyter-widgets/controls",
          "model_name": "DescriptionStyleModel",
          "model_module_version": "1.5.0",
          "state": {
            "_model_module": "@jupyter-widgets/controls",
            "_model_module_version": "1.5.0",
            "_model_name": "DescriptionStyleModel",
            "_view_count": null,
            "_view_module": "@jupyter-widgets/base",
            "_view_module_version": "1.2.0",
            "_view_name": "StyleView",
            "description_width": ""
          }
        },
        "0f0af673bd5647bc9b8c9e24280659e0": {
          "model_module": "@jupyter-widgets/base",
          "model_name": "LayoutModel",
          "model_module_version": "1.2.0",
          "state": {
            "_model_module": "@jupyter-widgets/base",
            "_model_module_version": "1.2.0",
            "_model_name": "LayoutModel",
            "_view_count": null,
            "_view_module": "@jupyter-widgets/base",
            "_view_module_version": "1.2.0",
            "_view_name": "LayoutView",
            "align_content": null,
            "align_items": null,
            "align_self": null,
            "border": null,
            "bottom": null,
            "display": null,
            "flex": null,
            "flex_flow": null,
            "grid_area": null,
            "grid_auto_columns": null,
            "grid_auto_flow": null,
            "grid_auto_rows": null,
            "grid_column": null,
            "grid_gap": null,
            "grid_row": null,
            "grid_template_areas": null,
            "grid_template_columns": null,
            "grid_template_rows": null,
            "height": null,
            "justify_content": null,
            "justify_items": null,
            "left": null,
            "margin": null,
            "max_height": null,
            "max_width": null,
            "min_height": null,
            "min_width": null,
            "object_fit": null,
            "object_position": null,
            "order": null,
            "overflow": null,
            "overflow_x": null,
            "overflow_y": null,
            "padding": null,
            "right": null,
            "top": null,
            "visibility": null,
            "width": null
          }
        },
        "201f57bfb54545b98d95c88a1f2c52ea": {
          "model_module": "@jupyter-widgets/controls",
          "model_name": "ProgressStyleModel",
          "model_module_version": "1.5.0",
          "state": {
            "_model_module": "@jupyter-widgets/controls",
            "_model_module_version": "1.5.0",
            "_model_name": "ProgressStyleModel",
            "_view_count": null,
            "_view_module": "@jupyter-widgets/base",
            "_view_module_version": "1.2.0",
            "_view_name": "StyleView",
            "bar_color": null,
            "description_width": ""
          }
        },
        "b033c043bb4f44429cb3eb63eb535587": {
          "model_module": "@jupyter-widgets/base",
          "model_name": "LayoutModel",
          "model_module_version": "1.2.0",
          "state": {
            "_model_module": "@jupyter-widgets/base",
            "_model_module_version": "1.2.0",
            "_model_name": "LayoutModel",
            "_view_count": null,
            "_view_module": "@jupyter-widgets/base",
            "_view_module_version": "1.2.0",
            "_view_name": "LayoutView",
            "align_content": null,
            "align_items": null,
            "align_self": null,
            "border": null,
            "bottom": null,
            "display": null,
            "flex": null,
            "flex_flow": null,
            "grid_area": null,
            "grid_auto_columns": null,
            "grid_auto_flow": null,
            "grid_auto_rows": null,
            "grid_column": null,
            "grid_gap": null,
            "grid_row": null,
            "grid_template_areas": null,
            "grid_template_columns": null,
            "grid_template_rows": null,
            "height": null,
            "justify_content": null,
            "justify_items": null,
            "left": null,
            "margin": null,
            "max_height": null,
            "max_width": null,
            "min_height": null,
            "min_width": null,
            "object_fit": null,
            "object_position": null,
            "order": null,
            "overflow": null,
            "overflow_x": null,
            "overflow_y": null,
            "padding": null,
            "right": null,
            "top": null,
            "visibility": null,
            "width": null
          }
        },
        "0bbfe4d925f84f3a84271b3b09e155ae": {
          "model_module": "@jupyter-widgets/controls",
          "model_name": "DescriptionStyleModel",
          "model_module_version": "1.5.0",
          "state": {
            "_model_module": "@jupyter-widgets/controls",
            "_model_module_version": "1.5.0",
            "_model_name": "DescriptionStyleModel",
            "_view_count": null,
            "_view_module": "@jupyter-widgets/base",
            "_view_module_version": "1.2.0",
            "_view_name": "StyleView",
            "description_width": ""
          }
        }
      }
    }
  },
  "nbformat": 4,
  "nbformat_minor": 5
}