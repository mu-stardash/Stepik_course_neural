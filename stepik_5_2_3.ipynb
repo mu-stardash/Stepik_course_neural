{
 "cells": [
  {
   "cell_type": "markdown",
   "id": "e384e223",
   "metadata": {},
   "source": [
    "На этом шаге детально рассмотрим из чего состоит сверточный слой.\n",
    "\n",
    "Сверточный слой это массив фильтров.\n",
    "\n",
    "Каждый фильтр имеет следующую размерность:\n",
    "\n",
    "- число слоев во входном изображении (для RGB это 3)\n",
    "\n",
    "- высота фильтра\n",
    "\n",
    "- ширина фильтра\n",
    "\n",
    "В ядре (кернеле) все фильтры имеют одинаковые размерность, поэтому ширину и высоту фильтров называют шириной и высотой ядра. Чаще всего ширина ядра равна высоте ядра, в таком случае их называют размером ядра (kernel_size).\n",
    "\n",
    " \n",
    "\n",
    "Также слой имеет такие параметры:\n",
    "\n",
    "- padding - на какое количество пикселей увеличивать входное изображение с каждой стороны.\n",
    "\n",
    "- stride - на сколько пикселей смещается фильтр при вычислении свертки\n",
    "\n",
    " \n",
    "\n",
    "Попробуйте самостоятельно вывести формулу размерности выхода сверточного слоя, зная параметры входа и ядра. \n",
    "\n",
    "Правильность формулы проверьте, сравнив ее с формулой из документации.\n",
    "\n",
    " \n",
    "\n",
    "Чтобы убедиться в правильности вашей формулы, напишите функцию, принимающую на вход:\n",
    "\n",
    "- входную размерность (число изображений в батче*число слоев в одном изображении*высота изображения*ширина изображения)\n",
    "\n",
    "- количество фильтров\n",
    "\n",
    "- размер фильтров (считаем, что высота совпадает с шириной)\n",
    "\n",
    "- padding\n",
    "\n",
    "- stride\n",
    "\n",
    "Функция должна возвращать размерность выхода."
   ]
  },
  {
   "cell_type": "code",
   "execution_count": 1,
   "id": "e0a444e4",
   "metadata": {},
   "outputs": [],
   "source": [
    "import numpy as np"
   ]
  },
  {
   "attachments": {
    "image.png": {
     "image/png": "[encoded data removed]"
    }
   },
   "cell_type": "markdown",
   "id": "12430eb5",
   "metadata": {},
   "source": [
    "input_matrix_shape=[2, 3, 10, 10] :\n",
    "- первый элемент - это количество входных изображений\n",
    "- второй элемент - количество слоев входного изображения\n",
    "- высота\n",
    "- ширина\n",
    "\n",
    "На выходе функции calc_out_shape надо получить тоже матрицу с четырьмя элементами. Соответственно, первый элемент в ней совпадает с первым элементом input_matrix_shape, второй элемент задается out_channels, а третий и четвертый это высота и ширина преобразованного изображения, которые в нашей задаче совпадают (видимо, для упрощения задания).\n",
    "\n",
    ",![image.png](attachment:image.png) где W_out -- ширина выходного изображения, K -- размер свёртки, P -- размер паддинга, S -- размер страйда.\n",
    "\n",
    "Когда делим на stride, не забываем про целочисленное деление."
   ]
  },
  {
   "cell_type": "code",
   "execution_count": 4,
   "id": "34caf45f",
   "metadata": {},
   "outputs": [
    {
     "name": "stdout",
     "output_type": "stream",
     "text": [
      "True\n"
     ]
    }
   ],
   "source": [
    "def calc_out_shape(input_matrix_shape, out_channels, kernel_size, stride, padding):\n",
    "    n = input_matrix_shape[0]\n",
    "    c_in = input_matrix_shape[1]\n",
    "    h_in = input_matrix_shape[2]\n",
    "    w_in = input_matrix_shape[3]\n",
    "    w_out = ((w_in - kernel_size + 2 * padding)//stride) + 1\n",
    "    h_out = ((h_in - kernel_size + 2 * padding)//stride) + 1\n",
    "    out_shape = (n,out_channels,h_out,w_out)# напишите тут код, вычисляющий выходную размерность\n",
    "\n",
    "    return out_shape\n",
    "\n",
    "print(np.array_equal(\n",
    "    calc_out_shape(input_matrix_shape=[2, 3, 10, 10],\n",
    "                   out_channels=10,\n",
    "                   kernel_size=3,\n",
    "                   stride=1,\n",
    "                   padding=0),\n",
    "    [2, 10, 8, 8]))\n",
    "\n",
    "# ... и ещё несколько подобных кейсов"
   ]
  },
  {
   "cell_type": "code",
   "execution_count": 20,
   "id": "9bae8e6b",
   "metadata": {},
   "outputs": [
    {
     "name": "stdout",
     "output_type": "stream",
     "text": [
      "(3, 6, 7, 7)\n"
     ]
    }
   ],
   "source": [
    "print(calc_out_shape(input_matrix_shape=[3, 3, 28, 28],\n",
    "                   out_channels=6,\n",
    "                   kernel_size=1,\n",
    "                   stride=4,\n",
    "                   padding=0))"
   ]
  }
 ],
 "metadata": {
  "kernelspec": {
   "display_name": "Python 3 (ipykernel)",
   "language": "python",
   "name": "python3"
  },
  "language_info": {
   "codemirror_mode": {
    "name": "ipython",
    "version": 3
   },
   "file_extension": ".py",
   "mimetype": "text/x-python",
   "name": "python",
   "nbconvert_exporter": "python",
   "pygments_lexer": "ipython3",
   "version": "3.9.12"
  }
 },
 "nbformat": 4,
 "nbformat_minor": 5
}
