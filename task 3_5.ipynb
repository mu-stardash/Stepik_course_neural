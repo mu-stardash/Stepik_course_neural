{
 "cells": [
  {
   "cell_type": "code",
   "execution_count": 4,
   "id": "d26949a1",
   "metadata": {},
   "outputs": [],
   "source": [
    "import torch\n",
    "import matplotlib.pyplot as plt\n",
    "import os\n",
    "os.environ[\"KMP_DUPLICATE_LIB_OK\"]=\"TRUE\""
   ]
  },
  {
   "cell_type": "code",
   "execution_count": 5,
   "id": "f62faec3",
   "metadata": {},
   "outputs": [],
   "source": [
    "def target_function(x):\n",
    "    return 2**x * torch.sin(2**-x)"
   ]
  },
  {
   "cell_type": "code",
   "execution_count": 145,
   "id": "00016880",
   "metadata": {},
   "outputs": [
    {
     "data": {
      "text/plain": [
       "RegressionNet(\n",
       "  (fc1): Linear(in_features=1, out_features=3, bias=True)\n",
       "  (act1): Tanh()\n",
       "  (fc2): Linear(in_features=3, out_features=3, bias=True)\n",
       "  (act2): Tanh()\n",
       "  (fc3): Linear(in_features=3, out_features=1, bias=True)\n",
       ")"
      ]
     },
     "execution_count": 145,
     "metadata": {},
     "output_type": "execute_result"
    }
   ],
   "source": [
    "class RegressionNet(torch.nn.Module):\n",
    "    # your code here\n",
    "    def __init__(self, n_hidden_neurons):\n",
    "        super(RegressionNet, self).__init__()\n",
    "        # put our code here\n",
    "        self.fc1 = torch.nn.Linear(1, n_hidden_neurons)\n",
    "        self.act1 = torch.nn.Tanh()\n",
    "        self.fc2 = torch.nn.Linear(n_hidden_neurons, n_hidden_neurons)\n",
    "        self.act2 = torch.nn.Tanh()\n",
    "        self.fc3 = torch.nn.Linear(n_hidden_neurons, 1)\n",
    "\n",
    "    def forward(self, x):\n",
    "        # put our code here\n",
    "        x = self.fc1(x)\n",
    "        x = self.act1(x)\n",
    "        x = self.fc2(x)\n",
    "        x = self.act2(x)\n",
    "        x = self.fc3(x)\n",
    "        return x\n",
    "\n",
    "\n",
    "net = RegressionNet(3)\n",
    "net"
   ]
  },
  {
   "cell_type": "code",
   "execution_count": 146,
   "id": "7adbd302",
   "metadata": {
    "scrolled": true
   },
   "outputs": [
    {
     "data": {
      "text/plain": [
       "tensor([[-1.5482e-04],\n",
       "        [-1.0732e-03],\n",
       "        [ 7.0097e-04],\n",
       "        [-5.7608e-04],\n",
       "        [ 6.5311e-04],\n",
       "        [ 9.8906e-04],\n",
       "        [-1.7836e-03],\n",
       "        [ 1.5283e-03],\n",
       "        [ 1.8686e-03],\n",
       "        [ 2.1850e-03],\n",
       "        [ 3.2003e-04],\n",
       "        [ 2.6802e-03],\n",
       "        [ 3.3656e-03],\n",
       "        [-2.4106e-03],\n",
       "        [ 1.0479e-03],\n",
       "        [-4.6642e-03],\n",
       "        [ 3.9665e-03],\n",
       "        [ 4.9868e-03],\n",
       "        [-4.1531e-03],\n",
       "        [ 6.0007e-03],\n",
       "        [-2.5418e-03],\n",
       "        [-2.2237e-03],\n",
       "        [ 8.5996e-03],\n",
       "        [-3.8417e-03],\n",
       "        [ 7.4946e-03],\n",
       "        [-1.2848e-02],\n",
       "        [-1.0455e-02],\n",
       "        [-6.5003e-03],\n",
       "        [-1.1817e-02],\n",
       "        [-2.0529e-02],\n",
       "        [-2.9806e-03],\n",
       "        [ 2.4776e-02],\n",
       "        [-2.3459e-02],\n",
       "        [ 1.7232e-02],\n",
       "        [-1.7709e-02],\n",
       "        [ 2.7786e-02],\n",
       "        [-4.1880e-02],\n",
       "        [ 3.9170e-02],\n",
       "        [ 4.1222e-03],\n",
       "        [-5.7028e-02],\n",
       "        [ 2.3338e-02],\n",
       "        [ 6.8612e-02],\n",
       "        [-1.0514e-02],\n",
       "        [-8.7542e-02],\n",
       "        [-6.0404e-02],\n",
       "        [ 3.7816e-02],\n",
       "        [ 1.1635e-01],\n",
       "        [ 1.1940e-01],\n",
       "        [ 5.0195e-02],\n",
       "        [-5.2978e-02],\n",
       "        [-1.4774e-01],\n",
       "        [-2.0545e-01],\n",
       "        [-2.1497e-01],\n",
       "        [-1.7869e-01],\n",
       "        [-1.0644e-01],\n",
       "        [-1.0458e-02],\n",
       "        [ 9.7796e-02],\n",
       "        [ 2.0913e-01],\n",
       "        [ 3.1700e-01],\n",
       "        [ 4.1724e-01],\n",
       "        [ 5.0761e-01],\n",
       "        [ 5.8725e-01],\n",
       "        [ 6.5621e-01],\n",
       "        [ 7.1513e-01],\n",
       "        [ 7.6494e-01],\n",
       "        [ 8.0670e-01],\n",
       "        [ 8.4147e-01],\n",
       "        [ 8.7028e-01],\n",
       "        [ 8.9404e-01],\n",
       "        [ 9.1358e-01],\n",
       "        [ 9.2960e-01],\n",
       "        [ 9.4270e-01],\n",
       "        [ 9.5340e-01],\n",
       "        [ 9.6213e-01],\n",
       "        [ 9.6924e-01],\n",
       "        [ 9.7502e-01],\n",
       "        [ 9.7972e-01],\n",
       "        [ 9.8355e-01],\n",
       "        [ 9.8665e-01],\n",
       "        [ 9.8917e-01],\n",
       "        [ 9.9122e-01],\n",
       "        [ 9.9288e-01],\n",
       "        [ 9.9422e-01],\n",
       "        [ 9.9532e-01],\n",
       "        [ 9.9620e-01],\n",
       "        [ 9.9692e-01],\n",
       "        [ 9.9750e-01],\n",
       "        [ 9.9798e-01],\n",
       "        [ 9.9836e-01],\n",
       "        [ 9.9867e-01],\n",
       "        [ 9.9892e-01],\n",
       "        [ 9.9913e-01],\n",
       "        [ 9.9929e-01],\n",
       "        [ 9.9943e-01],\n",
       "        [ 9.9953e-01],\n",
       "        [ 9.9962e-01],\n",
       "        [ 9.9969e-01],\n",
       "        [ 9.9975e-01],\n",
       "        [ 9.9980e-01],\n",
       "        [ 9.9984e-01]])"
      ]
     },
     "execution_count": 146,
     "metadata": {},
     "output_type": "execute_result"
    }
   ],
   "source": [
    "# ------Dataset preparation start--------:\n",
    "x_train =  torch.linspace(-10, 5, 100)\n",
    "y_train = target_function(x_train)\n",
    "noise = torch.randn(y_train.shape) / 20.\n",
    "y_train = y_train + noise\n",
    "\n",
    "x_train.unsqueeze_(1)\n",
    "y_train.unsqueeze_(1)\n",
    "\n",
    "x_validation = torch.linspace(-10, 5, 100)\n",
    "y_validation = target_function(x_validation)\n",
    "x_validation.unsqueeze_(1)\n",
    "y_validation.unsqueeze_(1)\n",
    "# ------Dataset preparation end--------:\n"
   ]
  },
  {
   "cell_type": "code",
   "execution_count": 147,
   "id": "cfbec737",
   "metadata": {},
   "outputs": [
    {
     "data": {
      "image/png": "[encoded data removed]",
      "text/plain": [
       "<Figure size 432x288 with 1 Axes>"
      ]
     },
     "metadata": {
      "needs_background": "light"
     },
     "output_type": "display_data"
    }
   ],
   "source": [
    "# already trying to predict. What if it works?\n",
    "def predict(net, x, y):\n",
    "    y_pred = net.forward(x)\n",
    "\n",
    "    plt.plot(x.numpy(), y.numpy(), 'o', label='Groud truth')\n",
    "    plt.plot(x.numpy(), y_pred.data.numpy(), 'o', c='r', label='Prediction');\n",
    "    plt.legend(loc='upper left')\n",
    "    plt.xlabel('$x$')\n",
    "    plt.ylabel('$y$')\n",
    "\n",
    "predict(net, x_validation, y_validation)"
   ]
  },
  {
   "cell_type": "code",
   "execution_count": 151,
   "id": "a99fae74",
   "metadata": {},
   "outputs": [],
   "source": [
    "optimizer = torch.optim.Adam(net.parameters(), lr=0.01)"
   ]
  },
  {
   "cell_type": "code",
   "execution_count": 152,
   "id": "ff5e688b",
   "metadata": {},
   "outputs": [],
   "source": [
    "def loss(pred, target):\n",
    "    squares = (pred - target).abs()\n",
    "    return squares.mean()"
   ]
  },
  {
   "cell_type": "code",
   "execution_count": 153,
   "id": "515c939b",
   "metadata": {},
   "outputs": [
    {
     "name": "stdout",
     "output_type": "stream",
     "text": [
      "0.020361948758363724\n"
     ]
    },
    {
     "data": {
      "image/png": "[encoded data removed]",
      "text/plain": [
       "<Figure size 432x288 with 1 Axes>"
      ]
     },
     "metadata": {
      "needs_background": "light"
     },
     "output_type": "display_data"
    }
   ],
   "source": [
    "for epoch_index in range(1000):\n",
    "    optimizer.zero_grad()\n",
    "\n",
    "    y_pred = net.forward(x_train)\n",
    "    loss_value = loss(y_pred, y_train)\n",
    "    # make backward\n",
    "    loss_value.backward()\n",
    "    # make step\n",
    "    optimizer.step()\n",
    "    \n",
    "predict(net, x_validation, y_validation)\n",
    "print(metric(net.forward(x_validation), y_validation).item())"
   ]
  },
  {
   "cell_type": "code",
   "execution_count": 14,
   "id": "acbf4f3f",
   "metadata": {},
   "outputs": [],
   "source": [
    "# Проверка осуществляется вызовом кода:\n",
    "def metric(pred, target):\n",
    "    return (pred - target).abs().mean()"
   ]
  }
 ],
 "metadata": {
  "kernelspec": {
   "display_name": "Python 3 (ipykernel)",
   "language": "python",
   "name": "python3"
  },
  "language_info": {
   "codemirror_mode": {
    "name": "ipython",
    "version": 3
   },
   "file_extension": ".py",
   "mimetype": "text/x-python",
   "name": "python",
   "nbconvert_exporter": "python",
   "pygments_lexer": "ipython3",
   "version": "3.9.12"
  }
 },
 "nbformat": 4,
 "nbformat_minor": 5
}
